{
 "cells": [
  {
   "cell_type": "code",
   "execution_count": 2,
   "id": "ce211684",
   "metadata": {},
   "outputs": [],
   "source": [
    "import tensorflow as tf\n",
    "from tensorflow.keras import layers, models\n",
    "import os"
   ]
  },
  {
   "cell_type": "code",
   "execution_count": 3,
   "id": "22396d36",
   "metadata": {},
   "outputs": [],
   "source": [
    "IMG_HEIGHT = 64\n",
    "IMG_WIDTH = 64\n",
    "BATCH_SIZE = 32\n",
    "EPOCHS = 15\n",
    "DATA_DIR = './dataset'\n",
    "SEED = 123"
   ]
  },
  {
   "cell_type": "code",
   "execution_count": null,
   "id": "ad9e637a",
   "metadata": {},
   "outputs": [],
   "source": [
    "# Load the dataset\n",
    "\n",
    "# Assuming the dataset is organized in subdirectories for each class\n",
    "\n",
    "# Build model\n",
    "\n",
    "# Compile the model\n",
    "\n",
    "# Train the model\n",
    "\n",
    "# Validate the model\n",
    "\n",
    "# Save the model\n",
    "# model.save(\"asl_cnn_model.h5\")\n",
    "# print(\"Model saved as asl_cnn_model.h5\")"
   ]
  }
 ],
 "metadata": {
  "kernelspec": {
   "display_name": ".venv",
   "language": "python",
   "name": "python3"
  },
  "language_info": {
   "codemirror_mode": {
    "name": "ipython",
    "version": 3
   },
   "file_extension": ".py",
   "mimetype": "text/x-python",
   "name": "python",
   "nbconvert_exporter": "python",
   "pygments_lexer": "ipython3",
   "version": "3.11.9"
  }
 },
 "nbformat": 4,
 "nbformat_minor": 5
}
